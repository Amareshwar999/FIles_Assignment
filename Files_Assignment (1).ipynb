{
  "nbformat": 4,
  "nbformat_minor": 0,
  "metadata": {
    "colab": {
      "provenance": []
    },
    "kernelspec": {
      "name": "python3",
      "display_name": "Python 3"
    },
    "language_info": {
      "name": "python"
    }
  },
  "cells": [
    {
      "cell_type": "markdown",
      "source": [
        "#**Files & Exceptional Handling Assignment**"
      ],
      "metadata": {
        "id": "DOP7pkeGAZ_8"
      }
    },
    {
      "cell_type": "markdown",
      "source": [
        "1. What is the difference between interpreted and compiled languages ?\n",
        "  * Interpreted languages execute code line-by-line at runtime, translating each statement into machine code on the fly (e.g., Python).\n",
        "\n",
        "  * Compiled languages translate the entire source code into machine code before execution, producing an executable file (e.g., C, C++).\n",
        "  ---\n",
        "2. What is exception handling in Python ?\n",
        "  - Exception handling in Python is a mechanism to catch and manage runtime errors using try, except, else, and finally blocks, preventing program crashes and allowing graceful error recovery.\n",
        "  ---\n",
        "3. What is the purpose of the finally block in exception ?\n",
        "  - The finally block ensures that specific code runs regardless of whether an exception occurred, often used for cleanup actions like closing files or releasing resources.\n",
        "  ---\n",
        "4. What is logging in Python ?\n",
        "  - Logging in Python refers to recording messages about a program’s execution, errors, or other events, typically using the built-in logging module.\n",
        "  ---\n",
        "5. What is the significance of the __del__ method in Python ?\n",
        "  - The __del__ method is a destructor called when an object is about to be destroyed, allowing for resource cleanup.\n",
        "  ---\n",
        "6. What is the difference between import and from ... import in Python ?\n",
        "  - 'import' module imports the entire module.\n",
        "\n",
        "  - 'from module import name' imports specific attributes or functions from a module.\n",
        "  ---\n",
        "7. How can you handle multiple exceptions in Python ?\n",
        "  - Multiple exceptions can be handled by specifying a tuple of exceptions in a single except block or by using multiple except blocks for different exception types.\n",
        "  ---\n",
        "8.  What is the purpose of the with statement when handling files in Python ?\n",
        "  - The with statement ensures that files are properly opened and closed, even if exceptions occur, by managing the file context automatically.\n",
        "  ---\n",
        "9.  What is the difference between multithreading and multiprocessing ?\n",
        "  - Multithreading: Multiple threads within a single process share memory space.\n",
        "\n",
        "  - Multiprocessing: Multiple processes run independently, each with its own memory space.\n",
        "  ---\n",
        "10. What are the advantages of using logging in a program ?\n",
        "  - Logging helps track events, debug issues, monitor application behavior, and maintain records for auditing and troubleshooting.\n",
        "  ---\n",
        "11. What is memory management in Python ?\n",
        "  - Memory management in Python involves allocating and releasing memory automatically using a built-in garbage collector.\n",
        "  ---\n",
        "12. What are the basic steps involved in exception handling in Python ?\n",
        "  - Wrap code in a try block.\n",
        "\n",
        "  - Catch exceptions with except.\n",
        "\n",
        "  - Optionally use else for code that runs if no exceptions occur.\n",
        "\n",
        "  - Use finally for cleanup actions.\n",
        "  ---\n",
        "13. Why is memory management important in Python ?\n",
        "  - Proper memory management prevents memory leaks, optimizes resource usage, and ensures efficient program execution.\n",
        "  ---\n",
        "14. What is the role of try and except in exception handling ?\n",
        "  - try contains code that may raise exceptions; except handles those exceptions if they occur.\n",
        "  ---\n",
        "15. How does Python's garbage collection system work ?\n",
        "  - Python uses reference counting and a cyclic garbage collector to automatically reclaim unused memory.\n",
        "  ---\n",
        "16.  What is the purpose of the else block in exception handling ?\n",
        "  - The else block executes code if no exceptions were raised in the try block.\n",
        "  ---\n",
        "17. What are the common logging levels in Python?\n",
        "  - DEBUG, INFO, WARNING, ERROR, CRITICAL.\n",
        "  ---\n",
        "18.  What is the difference between os.fork() and multiprocessing in Python ?\n",
        "  - os.fork() works only on Unix; multiprocessing is cross-platform and higher level.\n",
        "  ---\n",
        "19. What is the importance of closing a file in Python?\n",
        "  - Closing a file ensures that data is written to disk and resources are released.\n",
        "  ---\n",
        "20.  What is the difference between file.read() and file.readline() in Python ?\n",
        "  - file.read() : reads the entire file or a specified number of bytes.\n",
        "\n",
        "  - file.readline() : reads one line at a time.\n",
        "  ---\n",
        "21. What is the logging module in Python used for ?\n",
        "  - The logging module provides a flexible framework for emitting log messages from Python programs\n",
        "  ---\n",
        "22. What is the os module in Python used for in file handling ?\n",
        "  - The os module provides functions for interacting with the operating system, such as file and directory manipulation.\n",
        "  ---\n",
        "23. What are the challenges associated with memory management in Python ?\n",
        "  - Challenges include handling circular references, managing memory leaks, and optimizing memory usage in large applications.\n",
        "  ---\n",
        "24. How do you raise an exception manually in Python ?\n",
        "  - Use the raise statement followed by an exception type, e.g., raise ValueError(\"Error message\").\n",
        "  ---\n",
        "25.  Why is it important to use multithreading in certain applications ?\n",
        "  - Multithreading is useful for I/O-bound tasks, improving responsiveness, and parallelizing operations that wait for external resources.\n",
        "---\n",
        "\n",
        "\n",
        "\n",
        "\n",
        "\n"
      ],
      "metadata": {
        "id": "ov1lLIOKAoip"
      }
    },
    {
      "cell_type": "markdown",
      "source": [
        "#Practical questions\n"
      ],
      "metadata": {
        "id": "dPUfyFUzOkaO"
      }
    },
    {
      "cell_type": "code",
      "source": [
        "#How can you open a file for writing in Python and write a string to it\n",
        "with open(\"file.txt\", \"w\") as f:\n",
        "    f.write(\"Hello, World!\")\n"
      ],
      "metadata": {
        "id": "7cXEmuTbOoVL"
      },
      "execution_count": 2,
      "outputs": []
    },
    {
      "cell_type": "code",
      "source": [
        "#Write a Python program to read the contents of a file and print each line\n",
        "with open(\"file.txt\", \"r\") as f:\n",
        "    for line in f:\n",
        "        print(line.strip())"
      ],
      "metadata": {
        "colab": {
          "base_uri": "https://localhost:8080/"
        },
        "id": "JuO2xDvmOrBW",
        "outputId": "cc5c698d-228a-4a0f-9ab0-00d725d74665"
      },
      "execution_count": 3,
      "outputs": [
        {
          "output_type": "stream",
          "name": "stdout",
          "text": [
            "Hello, World!\n"
          ]
        }
      ]
    },
    {
      "cell_type": "code",
      "source": [
        "#How would you handle a case where the file doesn't exist while trying to open it for reading\n",
        "try:\n",
        "    with open(\"nonexistent_file.txt\", \"r\") as f:\n",
        "        content = f.read()\n",
        "except FileNotFoundError:\n",
        "    print(\"File not found.\")"
      ],
      "metadata": {
        "colab": {
          "base_uri": "https://localhost:8080/"
        },
        "id": "GHtAfLd2Oq-f",
        "outputId": "fe3f07d5-85c9-4678-c0f8-22c87e6ec881"
      },
      "execution_count": 5,
      "outputs": [
        {
          "output_type": "stream",
          "name": "stdout",
          "text": [
            "File not found.\n"
          ]
        }
      ]
    },
    {
      "cell_type": "code",
      "source": [
        "#Write a Python script that reads from one file and writes its content to another file\n",
        "with open('source.txt', 'r') as src, open('dest.txt', 'w') as dst:\n",
        "    for line in src:\n",
        "        dst.write(line)"
      ],
      "metadata": {
        "id": "GUxkvWVSUNOm"
      },
      "execution_count": null,
      "outputs": []
    },
    {
      "cell_type": "code",
      "source": [
        "#How would you catch and handle division by zero error in Python\n",
        "try:\n",
        "    result = 10 / 0\n",
        "except ZeroDivisionError:\n",
        "    print(\"Error: Division by zero\")"
      ],
      "metadata": {
        "colab": {
          "base_uri": "https://localhost:8080/"
        },
        "id": "qMZErts-Oq2d",
        "outputId": "7f19bc48-8d9c-4c9e-9482-2ea53551878a"
      },
      "execution_count": 11,
      "outputs": [
        {
          "output_type": "stream",
          "name": "stdout",
          "text": [
            "Error: Division by zero\n"
          ]
        }
      ]
    },
    {
      "cell_type": "code",
      "source": [
        "#Write a Python program that logs an error message to a log file when a division by zero exception occurs\n",
        "import logging\n",
        "\n",
        "logging.basicConfig(filename='error.log', level=logging.ERROR)\n",
        "\n",
        "try:\n",
        "    result = 10 / 0\n",
        "except ZeroDivisionError:\n",
        "    logging.error(\"Division by zero error occurred\")"
      ],
      "metadata": {
        "colab": {
          "base_uri": "https://localhost:8080/"
        },
        "id": "UPjYVgR5Oqz1",
        "outputId": "d14168ef-0523-4558-d9d3-bded58a643c6"
      },
      "execution_count": 12,
      "outputs": [
        {
          "output_type": "stream",
          "name": "stderr",
          "text": [
            "ERROR:root:Division by zero error occurred\n"
          ]
        }
      ]
    },
    {
      "cell_type": "code",
      "source": [
        "#How do you log information at different levels (INFO, ERROR, WARNING) in Python using the logging module\n",
        "import logging\n",
        "logging.basicConfig(level=logging.DEBUG)\n",
        "logging.info(\"This is an info message.\")\n",
        "logging.warning(\"This is a warning.\")\n",
        "logging.error(\"This is an error.\")\n"
      ],
      "metadata": {
        "colab": {
          "base_uri": "https://localhost:8080/"
        },
        "id": "VhZNiciLOqxG",
        "outputId": "bbaebbb2-f243-4337-c2f0-f3a2394bbbf7"
      },
      "execution_count": 14,
      "outputs": [
        {
          "output_type": "stream",
          "name": "stderr",
          "text": [
            "WARNING:root:This is a warning.\n",
            "ERROR:root:This is an error.\n"
          ]
        }
      ]
    },
    {
      "cell_type": "code",
      "source": [
        "#Write a program to handle a file opening error using exception handling\n",
        "try:\n",
        "    with open('file.txt', 'r') as f:\n",
        "        content = f.read()\n",
        "except FileNotFoundError:\n",
        "    print(\"File could not be opened.\")"
      ],
      "metadata": {
        "id": "eUzbZPDSOquN"
      },
      "execution_count": 15,
      "outputs": []
    },
    {
      "cell_type": "code",
      "source": [
        "#How can you read a file line by line and store its content in a list in Python\n",
        "with open('file.txt', 'r') as f:\n",
        "    lines = f.readlines()"
      ],
      "metadata": {
        "id": "FGljgLj7OqrN"
      },
      "execution_count": 34,
      "outputs": []
    },
    {
      "cell_type": "code",
      "source": [
        "#How can you append data to an existing file in Python\n",
        "with open('file.txt', 'a') as f:\n",
        "    f.write('New line of text.')"
      ],
      "metadata": {
        "id": "FkFqmCYNOqk-"
      },
      "execution_count": 36,
      "outputs": []
    },
    {
      "cell_type": "code",
      "source": [
        "#Write a Python program that uses a try-except block to handle an error when attempting to access a dictionary key that doesn't exist\n",
        "my_dict = {'a': 1, 'b': 2}\n",
        "try:\n",
        "    value = my_dict['c']\n",
        "except KeyError:\n",
        "    print(\"Key not found in dictionary.\")\n"
      ],
      "metadata": {
        "colab": {
          "base_uri": "https://localhost:8080/"
        },
        "id": "ywwdcLvjOqhl",
        "outputId": "535b1b27-012a-4319-a1e8-8c671f439fee"
      },
      "execution_count": 17,
      "outputs": [
        {
          "output_type": "stream",
          "name": "stdout",
          "text": [
            "Key not found in dictionary.\n"
          ]
        }
      ]
    },
    {
      "cell_type": "code",
      "source": [
        "#Write a program that demonstrates using multiple except blocks to handle different types of exceptions\n",
        "try:\n",
        "    result = 10 / 0\n",
        "except ZeroDivisionError:\n",
        "    print(\"Error: Division by zero\")\n",
        "except ValueError:\n",
        "    print(\"Error: Invalid value\")"
      ],
      "metadata": {
        "colab": {
          "base_uri": "https://localhost:8080/"
        },
        "id": "Qogwdy2sOqcX",
        "outputId": "8c7cbd3d-dab0-4a59-b0aa-5ff4a2eaea7f"
      },
      "execution_count": 18,
      "outputs": [
        {
          "output_type": "stream",
          "name": "stdout",
          "text": [
            "Error: Division by zero\n"
          ]
        }
      ]
    },
    {
      "cell_type": "code",
      "source": [
        "# How would you check if a file exists before attempting to read it in Python\n",
        "import os\n",
        "if os.path.exists('file.txt'):\n",
        "    with open('file.txt', 'r') as f:\n",
        "        content = f.read()\n",
        "else:\n",
        "    print(\"File does not exist.\")"
      ],
      "metadata": {
        "id": "AmW0aJa0OqZW"
      },
      "execution_count": 20,
      "outputs": []
    },
    {
      "cell_type": "code",
      "source": [
        "# Write a program that uses the logging module to log both informational and error messages\n",
        "import logging\n",
        "logging.basicConfig(filename=\"logfile.log\", level=logging.DEBUG)\n",
        "logging.info(\"Starting program\")\n",
        "try:\n",
        "    x = 1 / 0\n",
        "except ZeroDivisionError:\n",
        "    logging.error(\"Division by zero error\")"
      ],
      "metadata": {
        "colab": {
          "base_uri": "https://localhost:8080/"
        },
        "id": "WSGSVMXXOqWH",
        "outputId": "07836552-937b-4865-e2ff-b1144d927db9"
      },
      "execution_count": 22,
      "outputs": [
        {
          "output_type": "stream",
          "name": "stderr",
          "text": [
            "ERROR:root:Division by zero error\n"
          ]
        }
      ]
    },
    {
      "cell_type": "code",
      "source": [
        "#Write a Python program that prints the content of a file and handles the case when the file is empty\n",
        "try:\n",
        "    with open('file.txt', 'r') as f:\n",
        "        content = f.read()\n",
        "        if not content:\n",
        "            raise ValueError(\"File is empty\")\n",
        "        print(content)\n",
        "except FileNotFoundError:\n",
        "    print(\"File not found.\")"
      ],
      "metadata": {
        "colab": {
          "base_uri": "https://localhost:8080/"
        },
        "id": "eq_sxdLqOqS_",
        "outputId": "a2b5d991-86e2-40c8-bce2-c1a4c1dc118a"
      },
      "execution_count": 33,
      "outputs": [
        {
          "output_type": "stream",
          "name": "stdout",
          "text": [
            "Hello, World!\n"
          ]
        }
      ]
    },
    {
      "cell_type": "code",
      "source": [
        "#Demonstrate how to use memory profiling to check the memory usage of a small program\n",
        "!pip install memory_profiler\n",
        "# Install memory_profiler first: pip install memory_profiler\n",
        "from memory_profiler import profile\n",
        "\n",
        "@profile\n",
        "def my_func():\n",
        "    a = [1] * (10 ** 6)\n",
        "    b = [2] * (2 * 10 ** 7)\n",
        "    del b\n",
        "    return a\n",
        "\n",
        "my_func()"
      ],
      "metadata": {
        "id": "-yS6q5MEUyzF"
      },
      "execution_count": null,
      "outputs": []
    },
    {
      "cell_type": "code",
      "source": [
        "#Write a Python program to create and write a list of numbers to a file, one number per line\n",
        "with open('numbers.txt', 'w') as f:\n",
        "    numbers = [1, 2, 3, 4, 5]\n",
        "    for num in numbers:\n",
        "        f.write(str(num) + '\\n')"
      ],
      "metadata": {
        "id": "r6nilvLtOqHm"
      },
      "execution_count": 31,
      "outputs": []
    },
    {
      "cell_type": "code",
      "source": [
        "#How would you implement a basic logging setup that logs to a file with rotation after 1MB\n",
        "import logging\n",
        "from logging.handlers import RotatingFileHandler\n",
        "\n",
        "handler = RotatingFileHandler(\"app.log\", maxBytes=1048576, backupCount=3)\n",
        "logging.basicConfig(handlers=[handler], level=logging.INFO)\n",
        "logging.info(\"Rotating log setup\")"
      ],
      "metadata": {
        "id": "kYoMKIuMTZWO"
      },
      "execution_count": 30,
      "outputs": []
    },
    {
      "cell_type": "code",
      "source": [
        "#Write a program that handles both IndexError and KeyError using a try-except block\n",
        "try:\n",
        "    lst = [1]\n",
        "    print(lst[2])\n",
        "except IndexError:\n",
        "    print(\"Index out of range\")\n",
        "try:\n",
        "    d = {}\n",
        "    print(d[\"key\"])\n",
        "except KeyError:\n",
        "    print(\"Key not found\")\n"
      ],
      "metadata": {
        "colab": {
          "base_uri": "https://localhost:8080/"
        },
        "id": "maTPNADKTZRd",
        "outputId": "71425554-155c-4058-b629-c03d2d49c0b4"
      },
      "execution_count": 29,
      "outputs": [
        {
          "output_type": "stream",
          "name": "stdout",
          "text": [
            "Index out of range\n",
            "Key not found\n"
          ]
        }
      ]
    },
    {
      "cell_type": "code",
      "source": [
        "# How would you open a file and read its contents using a context manager in Python\n",
        "with open(\"file.txt\", \"r\") as f:\n",
        "    print(f.read())"
      ],
      "metadata": {
        "colab": {
          "base_uri": "https://localhost:8080/"
        },
        "id": "TrUP_UdzTZO-",
        "outputId": "a030ab0c-401b-4db0-df55-8a80f2925b1d"
      },
      "execution_count": 28,
      "outputs": [
        {
          "output_type": "stream",
          "name": "stdout",
          "text": [
            "Hello, World!\n"
          ]
        }
      ]
    },
    {
      "cell_type": "code",
      "source": [
        "#Write a Python program that reads a file and prints the number of occurrences of a specific word\n",
        "word = \"python\"\n",
        "with open(\"file.txt\") as f:\n",
        "    content = f.read()\n",
        "print(content.count(word))"
      ],
      "metadata": {
        "colab": {
          "base_uri": "https://localhost:8080/"
        },
        "id": "OOnJpJOPTZJN",
        "outputId": "c5d57dee-b2a7-4f1f-e8f4-e7563458206f"
      },
      "execution_count": 25,
      "outputs": [
        {
          "output_type": "stream",
          "name": "stdout",
          "text": [
            "0\n"
          ]
        }
      ]
    },
    {
      "cell_type": "code",
      "source": [
        "# How can you check if a file is empty before attempting to read its contents\n",
        "import logging\n",
        "logging.basicConfig(filename=\"error.log\", level=logging.ERROR)\n",
        "try:\n",
        "    with open(\"nonexistent.txt\") as f:\n",
        "        pass\n",
        "except Exception as e:\n",
        "    logging.error(f\"Error opening file: {e}\")\n"
      ],
      "metadata": {
        "colab": {
          "base_uri": "https://localhost:8080/"
        },
        "id": "mvLcRtVsTZG_",
        "outputId": "228d1124-e539-4d24-e7ee-56eb223ab837"
      },
      "execution_count": 27,
      "outputs": [
        {
          "output_type": "stream",
          "name": "stderr",
          "text": [
            "ERROR:root:Error opening file: [Errno 2] No such file or directory: 'nonexistent.txt'\n"
          ]
        }
      ]
    },
    {
      "cell_type": "code",
      "source": [
        "#Write a Python program that writes to a log file when an error occurs during file handling\n",
        "import logging\n",
        "logging.basicConfig(filename=\"error.log\", level=logging.ERROR)\n",
        "try:\n",
        "    with open(\"nonexistent.txt\") as f:\n",
        "        pass\n",
        "except Exception as e:\n",
        "    logging.error(f\"Error opening file: {e}\")\n"
      ],
      "metadata": {
        "colab": {
          "base_uri": "https://localhost:8080/"
        },
        "id": "B3SQ_qABTZEH",
        "outputId": "af1b6106-3569-4d53-b15c-da3ad8eafffd"
      },
      "execution_count": 26,
      "outputs": [
        {
          "output_type": "stream",
          "name": "stderr",
          "text": [
            "ERROR:root:Error opening file: [Errno 2] No such file or directory: 'nonexistent.txt'\n"
          ]
        }
      ]
    }
  ]
}